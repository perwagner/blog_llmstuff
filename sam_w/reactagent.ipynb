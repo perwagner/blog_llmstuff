{
 "cells": [
  {
   "cell_type": "code",
   "execution_count": 1,
   "metadata": {},
   "outputs": [],
   "source": [
    "# https://www.youtube.com/watch?v=pEMhPBQMNjg"
   ]
  },
  {
   "cell_type": "code",
   "execution_count": 2,
   "metadata": {},
   "outputs": [
    {
     "data": {
      "text/plain": [
       "True"
      ]
     },
     "execution_count": 2,
     "metadata": {},
     "output_type": "execute_result"
    }
   ],
   "source": [
    "from dotenv import load_dotenv\n",
    "\n",
    "load_dotenv()"
   ]
  },
  {
   "cell_type": "code",
   "execution_count": 22,
   "metadata": {},
   "outputs": [],
   "source": [
    "from langchain_openai import ChatOpenAI\n",
    "import requests\n",
    "\n",
    "from langchain_community.tools import DuckDuckGoSearchRun\n",
    "from langgraph.graph import MessagesState, START, StateGraph\n",
    "from langchain_core.messages import HumanMessage, SystemMessage\n",
    "from langchain_core.tools import tool\n",
    "from langgraph.prebuilt import tools_condition, ToolNode\n",
    "from IPython.display import Image, display"
   ]
  },
  {
   "cell_type": "code",
   "execution_count": 23,
   "metadata": {},
   "outputs": [],
   "source": [
    "llm = ChatOpenAI(model=\"gpt-4o\")"
   ]
  },
  {
   "cell_type": "code",
   "execution_count": 24,
   "metadata": {},
   "outputs": [],
   "source": [
    "@tool\n",
    "def get_character_info(id: int) -> dict:\n",
    "    \"\"\"Returns information about a specific star wars character\n",
    "\n",
    "    Args:\n",
    "        id: The ID in the StarWarsAPI for the character\n",
    "\n",
    "        ids of characters:\n",
    "        1: Luke Skywalker\n",
    "        14: Han Solo\n",
    "\n",
    "    Returns:\n",
    "        dict with keys like: name, height, mass, hair_color, homeworld, starships (as a list)\n",
    "        and others.\n",
    "    \"\"\"\n",
    "    r = requests.get(f\"https://swapi.info/api/people/{id}\")\n",
    "    return r.json()\n",
    "\n",
    "\n",
    "search = DuckDuckGoSearchRun()"
   ]
  },
  {
   "cell_type": "code",
   "execution_count": 27,
   "metadata": {},
   "outputs": [
    {
     "data": {
      "text/plain": [
       "{'name': 'Wilhuff Tarkin',\n",
       " 'height': '180',\n",
       " 'mass': 'unknown',\n",
       " 'hair_color': 'auburn, grey',\n",
       " 'skin_color': 'fair',\n",
       " 'eye_color': 'blue',\n",
       " 'birth_year': '64BBY',\n",
       " 'gender': 'male',\n",
       " 'homeworld': 'https://swapi.info/api/planets/21',\n",
       " 'films': ['https://swapi.info/api/films/1', 'https://swapi.info/api/films/6'],\n",
       " 'species': [],\n",
       " 'vehicles': [],\n",
       " 'starships': [],\n",
       " 'created': '2014-12-10T16:26:56.138000Z',\n",
       " 'edited': '2014-12-20T21:17:50.330000Z',\n",
       " 'url': 'https://swapi.info/api/people/12'}"
      ]
     },
     "execution_count": 27,
     "metadata": {},
     "output_type": "execute_result"
    }
   ],
   "source": [
    "get_character_info.invoke({\"id\": 12})"
   ]
  },
  {
   "cell_type": "code",
   "execution_count": 28,
   "metadata": {},
   "outputs": [],
   "source": [
    "tools = [get_character_info, search]\n",
    "llm_with_tools = llm.bind_tools(tools)"
   ]
  },
  {
   "cell_type": "code",
   "execution_count": 35,
   "metadata": {},
   "outputs": [
    {
     "data": {
      "text/plain": [
       "AIMessage(content='', additional_kwargs={'tool_calls': [{'id': 'call_nejexqzJTsIxoEhbJ202YS5l', 'function': {'arguments': '{\"id\":1}', 'name': 'get_character_info'}, 'type': 'function'}], 'refusal': None}, response_metadata={'token_usage': {'completion_tokens': 16, 'prompt_tokens': 168, 'total_tokens': 184, 'completion_tokens_details': {'accepted_prediction_tokens': 0, 'audio_tokens': 0, 'reasoning_tokens': 0, 'rejected_prediction_tokens': 0}, 'prompt_tokens_details': {'audio_tokens': 0, 'cached_tokens': 0}}, 'model_name': 'gpt-4o-2024-08-06', 'system_fingerprint': 'fp_d28bcae782', 'finish_reason': 'tool_calls', 'logprobs': None}, id='run-5962e772-d42b-4838-bbde-6f307d9afb73-0', tool_calls=[{'name': 'get_character_info', 'args': {'id': 1}, 'id': 'call_nejexqzJTsIxoEhbJ202YS5l', 'type': 'tool_call'}], usage_metadata={'input_tokens': 168, 'output_tokens': 16, 'total_tokens': 184, 'input_token_details': {'audio': 0, 'cache_read': 0}, 'output_token_details': {'audio': 0, 'reasoning': 0}})"
      ]
     },
     "execution_count": 35,
     "metadata": {},
     "output_type": "execute_result"
    }
   ],
   "source": [
    "r = llm_with_tools.invoke(\"Tell me about Luke Skywalker\")\n",
    "r"
   ]
  },
  {
   "cell_type": "code",
   "execution_count": null,
   "metadata": {},
   "outputs": [],
   "source": []
  },
  {
   "cell_type": "code",
   "execution_count": null,
   "metadata": {},
   "outputs": [],
   "source": []
  },
  {
   "cell_type": "code",
   "execution_count": 29,
   "metadata": {},
   "outputs": [],
   "source": [
    "from langgraph.graph import MessagesState, START, StateGraph\n",
    "from langchain_core.messages import HumanMessage, SystemMessage\n",
    "from langgraph.prebuilt import tools_condition, ToolNode\n",
    "from IPython.display import Image, display\n",
    "\n",
    "sys_message = SystemMessage(content=\"You are a useful assistant tasked with search and finding information about StarWars characters\")"
   ]
  },
  {
   "cell_type": "code",
   "execution_count": 30,
   "metadata": {},
   "outputs": [],
   "source": [
    "# Node\n",
    "def reasoner(state: MessagesState):\n",
    "    return {\n",
    "        \"messages\": [llm_with_tools.invoke([sys_message] + state[\"messages\"])]\n",
    "    }"
   ]
  },
  {
   "cell_type": "code",
   "execution_count": 31,
   "metadata": {},
   "outputs": [
    {
     "data": {
      "image/png": "[encoded data removed]",
      "text/plain": [
       "<IPython.core.display.Image object>"
      ]
     },
     "metadata": {},
     "output_type": "display_data"
    }
   ],
   "source": [
    "builder = StateGraph(MessagesState)\n",
    "\n",
    "builder.add_node(\"reasoner\", reasoner)\n",
    "builder.add_node(\"tools\", ToolNode(tools))\n",
    "\n",
    "builder.add_edge(START, \"reasoner\")\n",
    "builder.add_conditional_edges(\n",
    "    \"reasoner\",\n",
    "    tools_condition,\n",
    ")\n",
    "builder.add_edge(\"tools\", \"reasoner\")\n",
    "react_graph = builder.compile()\n",
    "\n",
    "display(Image(react_graph.get_graph(xray=True).draw_mermaid_png()))\n"
   ]
  },
  {
   "cell_type": "code",
   "execution_count": 32,
   "metadata": {},
   "outputs": [
    {
     "name": "stdout",
     "output_type": "stream",
     "text": [
      "================================\u001b[1m Human Message \u001b[0m=================================\n",
      "\n",
      "What is the height of Luke Skywalker and how much older is he than Han Solo?\n",
      "==================================\u001b[1m Ai Message \u001b[0m==================================\n",
      "Tool Calls:\n",
      "  get_character_info (call_jMj8JAsWaZAPWwzGbomTcrrI)\n",
      " Call ID: call_jMj8JAsWaZAPWwzGbomTcrrI\n",
      "  Args:\n",
      "    id: 1\n",
      "  get_character_info (call_jK9UWGrtUGTXwytx5kAKlVc2)\n",
      " Call ID: call_jK9UWGrtUGTXwytx5kAKlVc2\n",
      "  Args:\n",
      "    id: 14\n",
      "=================================\u001b[1m Tool Message \u001b[0m=================================\n",
      "Name: get_character_info\n",
      "\n",
      "{\"name\": \"Luke Skywalker\", \"height\": \"172\", \"mass\": \"77\", \"hair_color\": \"blond\", \"skin_color\": \"fair\", \"eye_color\": \"blue\", \"birth_year\": \"19BBY\", \"gender\": \"male\", \"homeworld\": \"https://swapi.info/api/planets/1\", \"films\": [\"https://swapi.info/api/films/1\", \"https://swapi.info/api/films/2\", \"https://swapi.info/api/films/3\", \"https://swapi.info/api/films/6\"], \"species\": [], \"vehicles\": [\"https://swapi.info/api/vehicles/14\", \"https://swapi.info/api/vehicles/30\"], \"starships\": [\"https://swapi.info/api/starships/12\", \"https://swapi.info/api/starships/22\"], \"created\": \"2014-12-09T13:50:51.644000Z\", \"edited\": \"2014-12-20T21:17:56.891000Z\", \"url\": \"https://swapi.info/api/people/1\"}\n",
      "=================================\u001b[1m Tool Message \u001b[0m=================================\n",
      "Name: get_character_info\n",
      "\n",
      "{\"name\": \"Han Solo\", \"height\": \"180\", \"mass\": \"80\", \"hair_color\": \"brown\", \"skin_color\": \"fair\", \"eye_color\": \"brown\", \"birth_year\": \"29BBY\", \"gender\": \"male\", \"homeworld\": \"https://swapi.info/api/planets/22\", \"films\": [\"https://swapi.info/api/films/1\", \"https://swapi.info/api/films/2\", \"https://swapi.info/api/films/3\"], \"species\": [], \"vehicles\": [], \"starships\": [\"https://swapi.info/api/starships/10\", \"https://swapi.info/api/starships/22\"], \"created\": \"2014-12-10T16:49:14.582000Z\", \"edited\": \"2014-12-20T21:17:50.334000Z\", \"url\": \"https://swapi.info/api/people/14\"}\n",
      "==================================\u001b[1m Ai Message \u001b[0m==================================\n",
      "\n",
      "Luke Skywalker is 172 cm tall. \n",
      "\n",
      "In terms of age, Luke Skywalker was born in 19 BBY (Before the Battle of Yavin), while Han Solo was born in 29 BBY. This makes Han Solo 10 years older than Luke Skywalker.\n"
     ]
    }
   ],
   "source": [
    "messages = [HumanMessage(content=\"What is the height of Luke Skywalker and how much older is he than Han Solo?\")]\n",
    "messages = react_graph.invoke({\"messages\": messages})\n",
    "\n",
    "for m in messages[\"messages\"]:\n",
    "    m.pretty_print()"
   ]
  },
  {
   "cell_type": "code",
   "execution_count": null,
   "metadata": {},
   "outputs": [],
   "source": []
  },
  {
   "cell_type": "code",
   "execution_count": null,
   "metadata": {},
   "outputs": [],
   "source": []
  },
  {
   "cell_type": "code",
   "execution_count": null,
   "metadata": {},
   "outputs": [],
   "source": []
  }
 ],
 "metadata": {
  "kernelspec": {
   "display_name": ".venv",
   "language": "python",
   "name": "python3"
  },
  "language_info": {
   "codemirror_mode": {
    "name": "ipython",
    "version": 3
   },
   "file_extension": ".py",
   "mimetype": "text/x-python",
   "name": "python",
   "nbconvert_exporter": "python",
   "pygments_lexer": "ipython3",
   "version": "3.13.1"
  }
 },
 "nbformat": 4,
 "nbformat_minor": 2
}
